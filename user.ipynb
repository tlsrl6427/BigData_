{
 "cells": [
  {
   "cell_type": "code",
   "execution_count": 1,
   "metadata": {
    "executionInfo": {
     "elapsed": 2,
     "status": "ok",
     "timestamp": 1639318119384,
     "user": {
      "displayName": "Hoon",
      "photoUrl": "https://lh3.googleusercontent.com/a-/AOh14Gj2Mel83Br0O3NTW8TZdtajsACI8PkzYrnpSPdQOA=s64",
      "userId": "08637906559510914783"
     },
     "user_tz": -540
    },
    "id": "wuVc9NSY_anY"
   },
   "outputs": [],
   "source": [
    "from google.colab import drive\n",
    "import pandas as pd\n",
    "import seaborn as sns; sns.set()\n",
    "import matplotlib.pyplot as plt\n",
    "import numpy as np"
   ]
  },
  {
   "cell_type": "code",
   "execution_count": 2,
   "metadata": {
    "executionInfo": {
     "elapsed": 441,
     "status": "ok",
     "timestamp": 1639318134695,
     "user": {
      "displayName": "Hoon",
      "photoUrl": "https://lh3.googleusercontent.com/a-/AOh14Gj2Mel83Br0O3NTW8TZdtajsACI8PkzYrnpSPdQOA=s64",
      "userId": "08637906559510914783"
     },
     "user_tz": -540
    },
    "id": "DFAPWfWm4GYn"
   },
   "outputs": [],
   "source": [
    "# (1) Extraversion, (2) Agreeableness, (3) Conscientiousness, (4) Emotional Stability, or (5) Openness\n",
    "pos_questions = [ # positive questions adding to the trait.\n",
    "    'EXT1','EXT3','EXT5','EXT7','EXT9',\n",
    "    'EST1','EST3','EST5','EST6','EST7','EST8','EST9','EST10',\n",
    "    'AGR2','AGR4','AGR6','AGR8','AGR9','AGR10',\n",
    "    'CSN1','CSN3','CSN5','CSN7','CSN9','CSN10',\n",
    "    'OPN1','OPN3','OPN5','OPN7','OPN8','OPN9','OPN10',\n",
    "]\n",
    "neg_questions = [ # negative (negating) questions subtracting from the trait.\n",
    "    'EXT2','EXT4','EXT6','EXT8','EXT10',\n",
    "    'EST2','EST4',\n",
    "    'AGR1','AGR3','AGR5','AGR7',\n",
    "    'CSN2','CSN4','CSN6','CSN8',\n",
    "    'OPN2','OPN4','OPN6',\n",
    "]"
   ]
  },
  {
   "cell_type": "code",
   "execution_count": 7,
   "metadata": {
    "colab": {
     "base_uri": "https://localhost:8080/"
    },
    "executionInfo": {
     "elapsed": 3250,
     "status": "ok",
     "timestamp": 1639318227430,
     "user": {
      "displayName": "Hoon",
      "photoUrl": "https://lh3.googleusercontent.com/a-/AOh14Gj2Mel83Br0O3NTW8TZdtajsACI8PkzYrnpSPdQOA=s64",
      "userId": "08637906559510914783"
     },
     "user_tz": -540
    },
    "id": "NZJOzKQ2EzAI",
    "outputId": "2e7023c6-c1be-41c1-de47-9bc75f8132a1"
   },
   "outputs": [
    {
     "name": "stdout",
     "output_type": "stream",
     "text": [
      "12345543211234553333323455432222225543211211114321\n"
     ]
    }
   ],
   "source": [
    "#user가 설문조사 한 순서\n",
    "input_order = [\n",
    "         'EXT1', 'AGR1', 'CSN1', 'EST1', 'OPN1',\n",
    "         'EXT2', 'AGR2', 'CSN2', 'EST2', 'OPN2',\n",
    "         'EXT3', 'AGR3', 'CSN3', 'EST3', 'OPN3',\n",
    "         'EXT4', 'AGR4', 'CSN4', 'EST4', 'OPN4',\n",
    "         'EXT5', 'AGR5', 'CSN5', 'EST5', 'OPN5',\n",
    "         'EXT6', 'AGR6', 'CSN6', 'EST6', 'OPN6',\n",
    "         'EXT7', 'AGR7', 'CSN7', 'EST7', 'OPN7',\n",
    "         'EXT8', 'AGR8', 'CSN8', 'EST8', 'OPN8',\n",
    "         'EXT9', 'AGR9', 'CSN9', 'EST9', 'OPN9',\n",
    "         'EXT10', 'AGR10', 'CSN10', 'EST10', 'OPN10'         \n",
    "         ]\n",
    "#1~50번 문항 입력 ex)12345543211234553333323455432222225543211211114321\n",
    "inp = input()\n",
    "input_score = []\n",
    "for i in range(50):\n",
    "  input_score.append(int(inp[i]))"
   ]
  },
  {
   "cell_type": "code",
   "execution_count": 8,
   "metadata": {
    "colab": {
     "base_uri": "https://localhost:8080/",
     "height": 101
    },
    "executionInfo": {
     "elapsed": 624,
     "status": "ok",
     "timestamp": 1639318230469,
     "user": {
      "displayName": "Hoon",
      "photoUrl": "https://lh3.googleusercontent.com/a-/AOh14Gj2Mel83Br0O3NTW8TZdtajsACI8PkzYrnpSPdQOA=s64",
      "userId": "08637906559510914783"
     },
     "user_tz": -540
    },
    "id": "S_xEgWbCGcCQ",
    "outputId": "63159591-8d3b-4ea9-be03-a6d7ef12765a"
   },
   "outputs": [
    {
     "data": {
      "text/html": [
       "<div>\n",
       "<style scoped>\n",
       "    .dataframe tbody tr th:only-of-type {\n",
       "        vertical-align: middle;\n",
       "    }\n",
       "\n",
       "    .dataframe tbody tr th {\n",
       "        vertical-align: top;\n",
       "    }\n",
       "\n",
       "    .dataframe thead th {\n",
       "        text-align: right;\n",
       "    }\n",
       "</style>\n",
       "<table border=\"1\" class=\"dataframe\">\n",
       "  <thead>\n",
       "    <tr style=\"text-align: right;\">\n",
       "      <th></th>\n",
       "      <th>EXT1</th>\n",
       "      <th>AGR1</th>\n",
       "      <th>CSN1</th>\n",
       "      <th>EST1</th>\n",
       "      <th>OPN1</th>\n",
       "      <th>EXT2</th>\n",
       "      <th>AGR2</th>\n",
       "      <th>CSN2</th>\n",
       "      <th>EST2</th>\n",
       "      <th>OPN2</th>\n",
       "      <th>EXT3</th>\n",
       "      <th>AGR3</th>\n",
       "      <th>CSN3</th>\n",
       "      <th>EST3</th>\n",
       "      <th>OPN3</th>\n",
       "      <th>EXT4</th>\n",
       "      <th>AGR4</th>\n",
       "      <th>CSN4</th>\n",
       "      <th>EST4</th>\n",
       "      <th>OPN4</th>\n",
       "      <th>EXT5</th>\n",
       "      <th>AGR5</th>\n",
       "      <th>CSN5</th>\n",
       "      <th>EST5</th>\n",
       "      <th>OPN5</th>\n",
       "      <th>EXT6</th>\n",
       "      <th>AGR6</th>\n",
       "      <th>CSN6</th>\n",
       "      <th>EST6</th>\n",
       "      <th>OPN6</th>\n",
       "      <th>EXT7</th>\n",
       "      <th>AGR7</th>\n",
       "      <th>CSN7</th>\n",
       "      <th>EST7</th>\n",
       "      <th>OPN7</th>\n",
       "      <th>EXT8</th>\n",
       "      <th>AGR8</th>\n",
       "      <th>CSN8</th>\n",
       "      <th>EST8</th>\n",
       "      <th>OPN8</th>\n",
       "      <th>EXT9</th>\n",
       "      <th>AGR9</th>\n",
       "      <th>CSN9</th>\n",
       "      <th>EST9</th>\n",
       "      <th>OPN9</th>\n",
       "      <th>EXT10</th>\n",
       "      <th>AGR10</th>\n",
       "      <th>CSN10</th>\n",
       "      <th>EST10</th>\n",
       "      <th>OPN10</th>\n",
       "    </tr>\n",
       "  </thead>\n",
       "  <tbody>\n",
       "    <tr>\n",
       "      <th>0</th>\n",
       "      <td>1</td>\n",
       "      <td>2</td>\n",
       "      <td>3</td>\n",
       "      <td>4</td>\n",
       "      <td>5</td>\n",
       "      <td>5</td>\n",
       "      <td>4</td>\n",
       "      <td>3</td>\n",
       "      <td>2</td>\n",
       "      <td>1</td>\n",
       "      <td>1</td>\n",
       "      <td>2</td>\n",
       "      <td>3</td>\n",
       "      <td>4</td>\n",
       "      <td>5</td>\n",
       "      <td>5</td>\n",
       "      <td>3</td>\n",
       "      <td>3</td>\n",
       "      <td>3</td>\n",
       "      <td>3</td>\n",
       "      <td>3</td>\n",
       "      <td>2</td>\n",
       "      <td>3</td>\n",
       "      <td>4</td>\n",
       "      <td>5</td>\n",
       "      <td>5</td>\n",
       "      <td>4</td>\n",
       "      <td>3</td>\n",
       "      <td>2</td>\n",
       "      <td>2</td>\n",
       "      <td>2</td>\n",
       "      <td>2</td>\n",
       "      <td>2</td>\n",
       "      <td>2</td>\n",
       "      <td>5</td>\n",
       "      <td>5</td>\n",
       "      <td>4</td>\n",
       "      <td>3</td>\n",
       "      <td>2</td>\n",
       "      <td>1</td>\n",
       "      <td>1</td>\n",
       "      <td>2</td>\n",
       "      <td>1</td>\n",
       "      <td>1</td>\n",
       "      <td>1</td>\n",
       "      <td>1</td>\n",
       "      <td>4</td>\n",
       "      <td>3</td>\n",
       "      <td>2</td>\n",
       "      <td>1</td>\n",
       "    </tr>\n",
       "  </tbody>\n",
       "</table>\n",
       "</div>"
      ],
      "text/plain": [
       "   EXT1  AGR1  CSN1  EST1  OPN1  EXT2  ...  OPN9  EXT10  AGR10  CSN10  EST10  OPN10\n",
       "0     1     2     3     4     5     5  ...     1      1      4      3      2      1\n",
       "\n",
       "[1 rows x 50 columns]"
      ]
     },
     "execution_count": 8,
     "metadata": {},
     "output_type": "execute_result"
    }
   ],
   "source": [
    "user = pd.DataFrame([input_score],columns=input_order)\n",
    "user"
   ]
  },
  {
   "cell_type": "code",
   "execution_count": 9,
   "metadata": {
    "executionInfo": {
     "elapsed": 2,
     "status": "ok",
     "timestamp": 1639318230990,
     "user": {
      "displayName": "Hoon",
      "photoUrl": "https://lh3.googleusercontent.com/a-/AOh14Gj2Mel83Br0O3NTW8TZdtajsACI8PkzYrnpSPdQOA=s64",
      "userId": "08637906559510914783"
     },
     "user_tz": -540
    },
    "id": "EWnOTkYYf7oa"
   },
   "outputs": [],
   "source": [
    "def scaleMax5(df):\n",
    "  #negative 점수 반전\n",
    "  for neg in neg_questions:\n",
    "    df[neg] = 6-df[neg]\n",
    "  df['EXT_SUM'] = 0\n",
    "  df['EST_SUM'] = 0\n",
    "  df['AGR_SUM'] = 0\n",
    "  df['CSN_SUM'] = 0\n",
    "  df['OPN_SUM'] = 0\n",
    "  for i in range(1,11):\n",
    "    df['EXT_SUM'] += df[f'EXT{i}']\n",
    "    df['EST_SUM'] += df[f'EST{i}']\n",
    "    df['AGR_SUM'] += df[f'AGR{i}']\n",
    "    df['CSN_SUM'] += df[f'CSN{i}']\n",
    "    df['OPN_SUM'] += df[f'OPN{i}']\n",
    "  new_df = df.iloc[:,-5:]\n",
    "  print(\"최대점수 5점으로 스케일링\")\n",
    "  new_df = new_df/10\n",
    "  return new_df"
   ]
  },
  {
   "cell_type": "code",
   "execution_count": 10,
   "metadata": {
    "colab": {
     "base_uri": "https://localhost:8080/",
     "height": 99
    },
    "executionInfo": {
     "elapsed": 4,
     "status": "ok",
     "timestamp": 1639318232195,
     "user": {
      "displayName": "Hoon",
      "photoUrl": "https://lh3.googleusercontent.com/a-/AOh14Gj2Mel83Br0O3NTW8TZdtajsACI8PkzYrnpSPdQOA=s64",
      "userId": "08637906559510914783"
     },
     "user_tz": -540
    },
    "id": "-4IJitwuIiX9",
    "outputId": "20317097-c041-4b59-a87b-6a23011882fd"
   },
   "outputs": [
    {
     "name": "stdout",
     "output_type": "stream",
     "text": [
      "최대점수 5점으로 스케일링\n"
     ]
    },
    {
     "data": {
      "text/html": [
       "<div>\n",
       "<style scoped>\n",
       "    .dataframe tbody tr th:only-of-type {\n",
       "        vertical-align: middle;\n",
       "    }\n",
       "\n",
       "    .dataframe tbody tr th {\n",
       "        vertical-align: top;\n",
       "    }\n",
       "\n",
       "    .dataframe thead th {\n",
       "        text-align: right;\n",
       "    }\n",
       "</style>\n",
       "<table border=\"1\" class=\"dataframe\">\n",
       "  <thead>\n",
       "    <tr style=\"text-align: right;\">\n",
       "      <th></th>\n",
       "      <th>EXT_SUM</th>\n",
       "      <th>EST_SUM</th>\n",
       "      <th>AGR_SUM</th>\n",
       "      <th>CSN_SUM</th>\n",
       "      <th>OPN_SUM</th>\n",
       "    </tr>\n",
       "  </thead>\n",
       "  <tbody>\n",
       "    <tr>\n",
       "      <th>0</th>\n",
       "      <td>1.7</td>\n",
       "      <td>2.8</td>\n",
       "      <td>3.7</td>\n",
       "      <td>2.7</td>\n",
       "      <td>3.5</td>\n",
       "    </tr>\n",
       "  </tbody>\n",
       "</table>\n",
       "</div>"
      ],
      "text/plain": [
       "   EXT_SUM  EST_SUM  AGR_SUM  CSN_SUM  OPN_SUM\n",
       "0      1.7      2.8      3.7      2.7      3.5"
      ]
     },
     "execution_count": 10,
     "metadata": {},
     "output_type": "execute_result"
    }
   ],
   "source": [
    "user = scaleMax5(user)\n",
    "user\n",
    "#여기까지. 밑에는 볼 필요 없음"
   ]
  }
 ],
 "metadata": {
  "colab": {
   "authorship_tag": "ABX9TyOBPlFNV3IUj9kU/u5DLwFl",
   "collapsed_sections": [],
   "name": "user.ipynb",
   "provenance": []
  },
  "kernelspec": {
   "display_name": "Python 3",
   "language": "python",
   "name": "python3"
  },
  "language_info": {
   "codemirror_mode": {
    "name": "ipython",
    "version": 3
   },
   "file_extension": ".py",
   "mimetype": "text/x-python",
   "name": "python",
   "nbconvert_exporter": "python",
   "pygments_lexer": "ipython3",
   "version": "3.8.3"
  }
 },
 "nbformat": 4,
 "nbformat_minor": 1
}
